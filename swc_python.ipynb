{
 "cells": [
  {
   "cell_type": "markdown",
   "id": "738bdb05",
   "metadata": {},
   "source": [
    "## Python Fundamentals\n",
    "https://swcarpentry.github.io/python-novice-inflammation/01-intro.html"
   ]
  },
  {
   "cell_type": "code",
   "execution_count": 2,
   "id": "0936a742",
   "metadata": {},
   "outputs": [
    {
     "data": {
      "text/plain": [
       "23"
      ]
     },
     "execution_count": 2,
     "metadata": {},
     "output_type": "execute_result"
    }
   ],
   "source": [
    "3 + (5 * 4)"
   ]
  },
  {
   "cell_type": "code",
   "execution_count": 6,
   "id": "858011a7",
   "metadata": {},
   "outputs": [],
   "source": [
    "weight_kg = 60"
   ]
  },
  {
   "cell_type": "code",
   "execution_count": 4,
   "id": "9f993918",
   "metadata": {},
   "outputs": [],
   "source": [
    "weight_kg = 60.3"
   ]
  },
  {
   "cell_type": "code",
   "execution_count": 7,
   "id": "39aec461",
   "metadata": {},
   "outputs": [
    {
     "data": {
      "text/plain": [
       "int"
      ]
     },
     "execution_count": 7,
     "metadata": {},
     "output_type": "execute_result"
    }
   ],
   "source": [
    "type(weight_kg)"
   ]
  },
  {
   "cell_type": "code",
   "execution_count": 23,
   "id": "069f49ba",
   "metadata": {},
   "outputs": [],
   "source": [
    "patient_id = '001'"
   ]
  },
  {
   "cell_type": "code",
   "execution_count": 9,
   "id": "ab2de32f",
   "metadata": {},
   "outputs": [
    {
     "data": {
      "text/plain": [
       "str"
      ]
     },
     "execution_count": 9,
     "metadata": {},
     "output_type": "execute_result"
    }
   ],
   "source": [
    "type(patient_id)"
   ]
  },
  {
   "cell_type": "code",
   "execution_count": 10,
   "id": "bf138c92",
   "metadata": {},
   "outputs": [],
   "source": [
    "patient_name = \"O'Niell\""
   ]
  },
  {
   "cell_type": "code",
   "execution_count": 11,
   "id": "ffdcba5a",
   "metadata": {},
   "outputs": [],
   "source": [
    "patient_quote = 'He said \"hello\"'"
   ]
  },
  {
   "cell_type": "code",
   "execution_count": 12,
   "id": "dc7005a1",
   "metadata": {},
   "outputs": [
    {
     "name": "stdout",
     "output_type": "stream",
     "text": [
      "O'Niell He said \"hello\"\n"
     ]
    }
   ],
   "source": [
    "print(patient_name,patient_quote)"
   ]
  },
  {
   "cell_type": "code",
   "execution_count": 13,
   "id": "bae6f2d5",
   "metadata": {},
   "outputs": [],
   "source": [
    "weight_lb = weight_kg * 2.2"
   ]
  },
  {
   "cell_type": "code",
   "execution_count": 24,
   "id": "a8f90344",
   "metadata": {},
   "outputs": [],
   "source": [
    "patient_id = 'inflam_' + patient_id"
   ]
  },
  {
   "cell_type": "code",
   "execution_count": 25,
   "id": "23bc018b",
   "metadata": {},
   "outputs": [
    {
     "name": "stdout",
     "output_type": "stream",
     "text": [
      "inflam_001\n"
     ]
    }
   ],
   "source": [
    "print(patient_id)"
   ]
  },
  {
   "cell_type": "code",
   "execution_count": 20,
   "id": "e7ec7eb4",
   "metadata": {},
   "outputs": [
    {
     "name": "stdout",
     "output_type": "stream",
     "text": [
      "weight in pounds: 159.28000000000003\n"
     ]
    }
   ],
   "source": [
    "print('weight in pounds:', 2.2 * weight_kg)"
   ]
  },
  {
   "cell_type": "code",
   "execution_count": 19,
   "id": "69e7ccfd",
   "metadata": {},
   "outputs": [],
   "source": [
    "weight_kg = 72.4"
   ]
  },
  {
   "cell_type": "code",
   "execution_count": 1,
   "id": "a92101e4",
   "metadata": {},
   "outputs": [
    {
     "name": "stdout",
     "output_type": "stream",
     "text": [
      "Interactive namespace is empty.\n"
     ]
    }
   ],
   "source": [
    "%whos"
   ]
  },
  {
   "cell_type": "code",
   "execution_count": 27,
   "id": "fa67a869",
   "metadata": {},
   "outputs": [],
   "source": [
    "del(patient_id)"
   ]
  },
  {
   "cell_type": "code",
   "execution_count": 28,
   "id": "c5ed3f32",
   "metadata": {},
   "outputs": [
    {
     "name": "stdout",
     "output_type": "stream",
     "text": [
      "Variable        Type     Data/Info\n",
      "----------------------------------\n",
      "patient_name    str      O'Niell\n",
      "patient_quote   str      He said \"hello\"\n",
      "weight_kg       float    72.4\n",
      "weight_lb       float    132.0\n"
     ]
    }
   ],
   "source": [
    "%whos"
   ]
  },
  {
   "cell_type": "markdown",
   "id": "784a4114",
   "metadata": {},
   "source": [
    "## Analyzing Patient Data\n",
    "https://swcarpentry.github.io/python-novice-inflammation/02-numpy.html"
   ]
  },
  {
   "cell_type": "code",
   "execution_count": 29,
   "id": "08943095",
   "metadata": {},
   "outputs": [],
   "source": [
    "import numpy"
   ]
  },
  {
   "cell_type": "code",
   "execution_count": 30,
   "id": "e34b5a8c",
   "metadata": {},
   "outputs": [
    {
     "name": "stdout",
     "output_type": "stream",
     "text": [
      "Variable        Type      Data/Info\n",
      "-----------------------------------\n",
      "numpy           module    <module 'numpy' from '/Us<...>kages/numpy/__init__.py'>\n",
      "patient_name    str       O'Niell\n",
      "patient_quote   str       He said \"hello\"\n",
      "weight_kg       float     72.4\n",
      "weight_lb       float     132.0\n"
     ]
    }
   ],
   "source": [
    "%whos"
   ]
  },
  {
   "cell_type": "code",
   "execution_count": 31,
   "id": "ddf8ed11",
   "metadata": {},
   "outputs": [
    {
     "data": {
      "text/plain": [
       "array([[0., 0., 1., ..., 3., 0., 0.],\n",
       "       [0., 1., 2., ..., 1., 0., 1.],\n",
       "       [0., 1., 1., ..., 2., 1., 1.],\n",
       "       ...,\n",
       "       [0., 1., 1., ..., 1., 1., 1.],\n",
       "       [0., 0., 0., ..., 0., 2., 0.],\n",
       "       [0., 0., 1., ..., 1., 1., 0.]])"
      ]
     },
     "execution_count": 31,
     "metadata": {},
     "output_type": "execute_result"
    }
   ],
   "source": [
    "numpy.loadtxt(fname='data/inflammation-01.csv', delimiter=',')"
   ]
  },
  {
   "cell_type": "code",
   "execution_count": 32,
   "id": "f4c8163c",
   "metadata": {},
   "outputs": [],
   "source": [
    "data = numpy.loadtxt(fname='data/inflammation-01.csv', delimiter=',')"
   ]
  },
  {
   "cell_type": "code",
   "execution_count": 33,
   "id": "1189853e",
   "metadata": {},
   "outputs": [
    {
     "name": "stdout",
     "output_type": "stream",
     "text": [
      "Variable        Type       Data/Info\n",
      "------------------------------------\n",
      "data            ndarray    60x40: 2400 elems, type `float64`, 19200 bytes\n",
      "numpy           module     <module 'numpy' from '/Us<...>kages/numpy/__init__.py'>\n",
      "patient_name    str        O'Niell\n",
      "patient_quote   str        He said \"hello\"\n",
      "weight_kg       float      72.4\n",
      "weight_lb       float      132.0\n"
     ]
    }
   ],
   "source": [
    "%whos"
   ]
  },
  {
   "cell_type": "code",
   "execution_count": 34,
   "id": "4896ecba",
   "metadata": {},
   "outputs": [
    {
     "name": "stdout",
     "output_type": "stream",
     "text": [
      "[[0. 0. 1. ... 3. 0. 0.]\n",
      " [0. 1. 2. ... 1. 0. 1.]\n",
      " [0. 1. 1. ... 2. 1. 1.]\n",
      " ...\n",
      " [0. 1. 1. ... 1. 1. 1.]\n",
      " [0. 0. 0. ... 0. 2. 0.]\n",
      " [0. 0. 1. ... 1. 1. 0.]]\n"
     ]
    }
   ],
   "source": [
    "print(data)"
   ]
  },
  {
   "cell_type": "code",
   "execution_count": 35,
   "id": "b45995ae",
   "metadata": {},
   "outputs": [
    {
     "name": "stdout",
     "output_type": "stream",
     "text": [
      "<class 'numpy.ndarray'>\n"
     ]
    }
   ],
   "source": [
    "print(type(data))"
   ]
  },
  {
   "cell_type": "code",
   "execution_count": 36,
   "id": "2125fccb",
   "metadata": {},
   "outputs": [
    {
     "name": "stdout",
     "output_type": "stream",
     "text": [
      "float64\n"
     ]
    }
   ],
   "source": [
    "print(data.dtype)"
   ]
  },
  {
   "cell_type": "code",
   "execution_count": 37,
   "id": "4379c9c5",
   "metadata": {},
   "outputs": [
    {
     "name": "stdout",
     "output_type": "stream",
     "text": [
      "(60, 40)\n"
     ]
    }
   ],
   "source": [
    "print(data.shape)"
   ]
  },
  {
   "cell_type": "code",
   "execution_count": 39,
   "id": "7731cd3d",
   "metadata": {},
   "outputs": [
    {
     "data": {
      "text/plain": [
       "6.14875"
      ]
     },
     "execution_count": 39,
     "metadata": {},
     "output_type": "execute_result"
    }
   ],
   "source": [
    "data.mean()"
   ]
  },
  {
   "cell_type": "code",
   "execution_count": 40,
   "id": "b37db980",
   "metadata": {},
   "outputs": [
    {
     "name": "stdout",
     "output_type": "stream",
     "text": [
      "first cell is 0.0\n"
     ]
    }
   ],
   "source": [
    "print('first cell is', data[0,0])"
   ]
  },
  {
   "cell_type": "code",
   "execution_count": 41,
   "id": "08151e48",
   "metadata": {},
   "outputs": [
    {
     "name": "stdout",
     "output_type": "stream",
     "text": [
      "second row third column 2.0\n"
     ]
    }
   ],
   "source": [
    "print('second row third column', data[1,2])"
   ]
  },
  {
   "cell_type": "code",
   "execution_count": 42,
   "id": "63f95b34",
   "metadata": {},
   "outputs": [
    {
     "name": "stdout",
     "output_type": "stream",
     "text": [
      "middle value: 16.0\n"
     ]
    }
   ],
   "source": [
    "print('middle value:', data[29,19])"
   ]
  },
  {
   "cell_type": "code",
   "execution_count": 43,
   "id": "a11a3015",
   "metadata": {},
   "outputs": [
    {
     "data": {
      "text/plain": [
       "array([[0., 0., 1., 3., 1.],\n",
       "       [0., 1., 2., 1., 2.],\n",
       "       [0., 1., 1., 3., 3.],\n",
       "       [0., 0., 2., 0., 4.],\n",
       "       [0., 1., 1., 3., 3.],\n",
       "       [0., 0., 1., 2., 2.],\n",
       "       [0., 0., 2., 2., 4.],\n",
       "       [0., 0., 1., 2., 3.],\n",
       "       [0., 0., 0., 3., 1.],\n",
       "       [0., 1., 1., 2., 1.]])"
      ]
     },
     "execution_count": 43,
     "metadata": {},
     "output_type": "execute_result"
    }
   ],
   "source": [
    "data[0:10,0:5]"
   ]
  },
  {
   "cell_type": "code",
   "execution_count": 44,
   "id": "dd226919",
   "metadata": {},
   "outputs": [
    {
     "data": {
      "text/plain": [
       "array([[0., 0., 1., 3., 1.],\n",
       "       [0., 1., 2., 1., 2.],\n",
       "       [0., 1., 1., 3., 3.],\n",
       "       [0., 0., 2., 0., 4.],\n",
       "       [0., 1., 1., 3., 3.],\n",
       "       [0., 0., 1., 2., 2.],\n",
       "       [0., 0., 2., 2., 4.],\n",
       "       [0., 0., 1., 2., 3.],\n",
       "       [0., 0., 0., 3., 1.],\n",
       "       [0., 1., 1., 2., 1.]])"
      ]
     },
     "execution_count": 44,
     "metadata": {},
     "output_type": "execute_result"
    }
   ],
   "source": [
    "data[:10,:5]"
   ]
  },
  {
   "cell_type": "code",
   "execution_count": 45,
   "id": "4a5c305d",
   "metadata": {},
   "outputs": [
    {
     "data": {
      "text/plain": [
       "array([[3., 4., 1., 2., 0.],\n",
       "       [2., 1., 3., 1., 0.],\n",
       "       [2., 4., 1., 2., 1.],\n",
       "       [4., 2., 2., 2., 1.],\n",
       "       [5., 1., 0., 0., 1.],\n",
       "       [5., 3., 3., 0., 1.],\n",
       "       [4., 2., 2., 1., 1.],\n",
       "       [5., 2., 1., 1., 1.],\n",
       "       [5., 2., 0., 2., 0.],\n",
       "       [1., 3., 1., 1., 0.]])"
      ]
     },
     "execution_count": 45,
     "metadata": {},
     "output_type": "execute_result"
    }
   ],
   "source": [
    "data[50:,35:]"
   ]
  },
  {
   "cell_type": "code",
   "execution_count": 46,
   "id": "8aaa8f95",
   "metadata": {},
   "outputs": [],
   "source": [
    "import time"
   ]
  },
  {
   "cell_type": "code",
   "execution_count": 47,
   "id": "2cdbba34",
   "metadata": {},
   "outputs": [
    {
     "data": {
      "text/plain": [
       "'Thu Mar 20 15:03:00 2025'"
      ]
     },
     "execution_count": 47,
     "metadata": {},
     "output_type": "execute_result"
    }
   ],
   "source": [
    "time.ctime()"
   ]
  },
  {
   "cell_type": "code",
   "execution_count": 48,
   "id": "92cc1741",
   "metadata": {},
   "outputs": [],
   "source": [
    "maxval, minval, stdval = numpy.amax(data), numpy.amin(data), numpy.std(data)"
   ]
  },
  {
   "cell_type": "code",
   "execution_count": 49,
   "id": "b3179fd1",
   "metadata": {},
   "outputs": [
    {
     "name": "stdout",
     "output_type": "stream",
     "text": [
      "0.0 20.0 4.613833197118566\n"
     ]
    }
   ],
   "source": [
    "print(minval, maxval, stdval)"
   ]
  },
  {
   "cell_type": "code",
   "execution_count": 51,
   "id": "b16ae6d5",
   "metadata": {},
   "outputs": [],
   "source": [
    "patient_0 = data[0,:]"
   ]
  },
  {
   "cell_type": "code",
   "execution_count": 52,
   "id": "2d44fd1c",
   "metadata": {},
   "outputs": [],
   "source": [
    "maxval0, minval0, stdval0 = numpy.amax(patient_0), numpy.amin(patient_0), numpy.std(patient_0)"
   ]
  },
  {
   "cell_type": "code",
   "execution_count": 53,
   "id": "a2098c7c",
   "metadata": {},
   "outputs": [
    {
     "name": "stdout",
     "output_type": "stream",
     "text": [
      "0.0 18.0 3.898397106504159\n"
     ]
    }
   ],
   "source": [
    "print(minval0, maxval0, stdval0)"
   ]
  },
  {
   "cell_type": "code",
   "execution_count": 54,
   "id": "60a4ca73",
   "metadata": {},
   "outputs": [],
   "source": [
    "maxval0, minval0, stdval0 = numpy.amax(data[0,:]), numpy.amin(data[0,:]), numpy.std(data[0,:])"
   ]
  },
  {
   "cell_type": "code",
   "execution_count": 55,
   "id": "1ff761fa",
   "metadata": {},
   "outputs": [
    {
     "name": "stdout",
     "output_type": "stream",
     "text": [
      "0.0 18.0 3.898397106504159\n"
     ]
    }
   ],
   "source": [
    "print(minval0, maxval0, stdval0)"
   ]
  },
  {
   "cell_type": "code",
   "execution_count": 56,
   "id": "3444ee80",
   "metadata": {},
   "outputs": [
    {
     "name": "stdout",
     "output_type": "stream",
     "text": [
      "Variable        Type       Data/Info\n",
      "------------------------------------\n",
      "data            ndarray    60x40: 2400 elems, type `float64`, 19200 bytes\n",
      "maxval          float64    20.0\n",
      "maxval0         float64    18.0\n",
      "minval          float64    0.0\n",
      "minval0         float64    0.0\n",
      "numpy           module     <module 'numpy' from '/Us<...>kages/numpy/__init__.py'>\n",
      "patient_0       ndarray    40: 40 elems, type `float64`, 320 bytes\n",
      "patient_name    str        O'Niell\n",
      "patient_quote   str        He said \"hello\"\n",
      "stdval          float64    4.613833197118566\n",
      "stdval0         float64    3.898397106504159\n",
      "time            module     <module 'time' (built-in)>\n",
      "weight_kg       float      72.4\n",
      "weight_lb       float      132.0\n"
     ]
    }
   ],
   "source": [
    "%whos"
   ]
  },
  {
   "cell_type": "code",
   "execution_count": 57,
   "id": "479b9769",
   "metadata": {},
   "outputs": [
    {
     "data": {
      "text/plain": [
       "array([ 0.        ,  0.45      ,  1.11666667,  1.75      ,  2.43333333,\n",
       "        3.15      ,  3.8       ,  3.88333333,  5.23333333,  5.51666667,\n",
       "        5.95      ,  5.9       ,  8.35      ,  7.73333333,  8.36666667,\n",
       "        9.5       ,  9.58333333, 10.63333333, 11.56666667, 12.35      ,\n",
       "       13.25      , 11.96666667, 11.03333333, 10.16666667, 10.        ,\n",
       "        8.66666667,  9.15      ,  7.25      ,  7.33333333,  6.58333333,\n",
       "        6.06666667,  5.95      ,  5.11666667,  3.6       ,  3.3       ,\n",
       "        3.56666667,  2.48333333,  1.5       ,  1.13333333,  0.56666667])"
      ]
     },
     "execution_count": 57,
     "metadata": {},
     "output_type": "execute_result"
    }
   ],
   "source": [
    "numpy.mean(data, axis=0)"
   ]
  },
  {
   "cell_type": "code",
   "execution_count": 58,
   "id": "0be4a99e",
   "metadata": {},
   "outputs": [
    {
     "data": {
      "text/plain": [
       "(40,)"
      ]
     },
     "execution_count": 58,
     "metadata": {},
     "output_type": "execute_result"
    }
   ],
   "source": [
    "numpy.mean(data, axis=0).shape"
   ]
  },
  {
   "cell_type": "code",
   "execution_count": 59,
   "id": "23fbc313",
   "metadata": {},
   "outputs": [
    {
     "data": {
      "text/plain": [
       "array([5.45 , 5.425, 6.1  , 5.9  , 5.55 , 6.225, 5.975, 6.65 , 6.625,\n",
       "       6.525, 6.775, 5.8  , 6.225, 5.75 , 5.225, 6.3  , 6.55 , 5.7  ,\n",
       "       5.85 , 6.55 , 5.775, 5.825, 6.175, 6.1  , 5.8  , 6.425, 6.05 ,\n",
       "       6.025, 6.175, 6.55 , 6.175, 6.35 , 6.725, 6.125, 7.075, 5.725,\n",
       "       5.925, 6.15 , 6.075, 5.75 , 5.975, 5.725, 6.3  , 5.9  , 6.75 ,\n",
       "       5.925, 7.225, 6.15 , 5.95 , 6.275, 5.7  , 6.1  , 6.825, 5.975,\n",
       "       6.725, 5.7  , 6.25 , 6.4  , 7.05 , 5.9  ])"
      ]
     },
     "execution_count": 59,
     "metadata": {},
     "output_type": "execute_result"
    }
   ],
   "source": [
    "numpy.mean(data, axis=1)"
   ]
  },
  {
   "cell_type": "code",
   "execution_count": 60,
   "id": "23573d8a",
   "metadata": {},
   "outputs": [
    {
     "data": {
      "text/plain": [
       "(60,)"
      ]
     },
     "execution_count": 60,
     "metadata": {},
     "output_type": "execute_result"
    }
   ],
   "source": [
    "numpy.mean(data, axis=1).shape"
   ]
  },
  {
   "cell_type": "markdown",
   "id": "6c63905a",
   "metadata": {},
   "source": [
    "#### puzzles"
   ]
  },
  {
   "cell_type": "code",
   "execution_count": 61,
   "id": "56154224",
   "metadata": {},
   "outputs": [],
   "source": [
    "element = 'oxygen'"
   ]
  },
  {
   "cell_type": "code",
   "execution_count": 62,
   "id": "37972a83",
   "metadata": {},
   "outputs": [
    {
     "data": {
      "text/plain": [
       "'oxy'"
      ]
     },
     "execution_count": 62,
     "metadata": {},
     "output_type": "execute_result"
    }
   ],
   "source": [
    "element[:3]"
   ]
  },
  {
   "cell_type": "code",
   "execution_count": 63,
   "id": "e55e1d0b",
   "metadata": {},
   "outputs": [],
   "source": [
    "A = numpy.array(\n",
    "    [\n",
    "        [1,2,3],\n",
    "        [4,5,6],\n",
    "        [7,8,9]\n",
    "    ]\n",
    ")"
   ]
  },
  {
   "cell_type": "code",
   "execution_count": 64,
   "id": "00af6b4f",
   "metadata": {},
   "outputs": [
    {
     "data": {
      "text/plain": [
       "array([[1, 2, 3],\n",
       "       [4, 5, 6],\n",
       "       [7, 8, 9]])"
      ]
     },
     "execution_count": 64,
     "metadata": {},
     "output_type": "execute_result"
    }
   ],
   "source": [
    "A"
   ]
  },
  {
   "cell_type": "code",
   "execution_count": 65,
   "id": "e19fcdcc",
   "metadata": {},
   "outputs": [
    {
     "data": {
      "text/plain": [
       "array([[1, 2, 3, 1, 2, 3],\n",
       "       [4, 5, 6, 4, 5, 6],\n",
       "       [7, 8, 9, 7, 8, 9]])"
      ]
     },
     "execution_count": 65,
     "metadata": {},
     "output_type": "execute_result"
    }
   ],
   "source": [
    "numpy.hstack([A,A])"
   ]
  },
  {
   "cell_type": "code",
   "execution_count": 66,
   "id": "853ce5e5",
   "metadata": {},
   "outputs": [],
   "source": [
    "numpy.hstack?"
   ]
  },
  {
   "cell_type": "code",
   "execution_count": 68,
   "id": "45e5fc20",
   "metadata": {},
   "outputs": [],
   "source": [
    "numpy.array?"
   ]
  },
  {
   "cell_type": "markdown",
   "id": "d593489e",
   "metadata": {},
   "source": [
    "(\n",
    "    [1,3],\n",
    "    [4,6],\n",
    "    [7,9]\n",
    ")"
   ]
  },
  {
   "cell_type": "code",
   "execution_count": 69,
   "id": "4ebf5b5c",
   "metadata": {},
   "outputs": [
    {
     "data": {
      "text/plain": [
       "array([[1, 2, 3],\n",
       "       [4, 5, 6],\n",
       "       [7, 8, 9]])"
      ]
     },
     "execution_count": 69,
     "metadata": {},
     "output_type": "execute_result"
    }
   ],
   "source": [
    "A"
   ]
  },
  {
   "cell_type": "code",
   "execution_count": 74,
   "id": "33a0ec1a",
   "metadata": {},
   "outputs": [
    {
     "ename": "ValueError",
     "evalue": "all the input arrays must have same number of dimensions, but the array at index 0 has 1 dimension(s) and the array at index 1 has 2 dimension(s)",
     "output_type": "error",
     "traceback": [
      "\u001b[0;31m---------------------------------------------------------------------------\u001b[0m",
      "\u001b[0;31mValueError\u001b[0m                                Traceback (most recent call last)",
      "\u001b[0;32m<ipython-input-74-6c1c7d7fc88e>\u001b[0m in \u001b[0;36m<module>\u001b[0;34m\u001b[0m\n\u001b[0;32m----> 1\u001b[0;31m \u001b[0mnumpy\u001b[0m\u001b[0;34m.\u001b[0m\u001b[0mhstack\u001b[0m\u001b[0;34m(\u001b[0m\u001b[0;34m[\u001b[0m\u001b[0mA\u001b[0m\u001b[0;34m[\u001b[0m\u001b[0;34m:\u001b[0m\u001b[0;34m,\u001b[0m\u001b[0;36m0\u001b[0m\u001b[0;34m]\u001b[0m\u001b[0;34m,\u001b[0m\u001b[0mA\u001b[0m\u001b[0;34m[\u001b[0m\u001b[0;34m:\u001b[0m\u001b[0;34m,\u001b[0m\u001b[0;36m2\u001b[0m\u001b[0;34m:\u001b[0m\u001b[0;34m]\u001b[0m\u001b[0;34m]\u001b[0m\u001b[0;34m)\u001b[0m\u001b[0;34m\u001b[0m\u001b[0;34m\u001b[0m\u001b[0m\n\u001b[0m",
      "\u001b[0;32m<__array_function__ internals>\u001b[0m in \u001b[0;36mhstack\u001b[0;34m(*args, **kwargs)\u001b[0m\n",
      "\u001b[0;32m~/anaconda3/envs/py37/lib/python3.7/site-packages/numpy/core/shape_base.py\u001b[0m in \u001b[0;36mhstack\u001b[0;34m(tup)\u001b[0m\n\u001b[1;32m    342\u001b[0m     \u001b[0;31m# As a special case, dimension 0 of 1-dimensional arrays is \"horizontal\"\u001b[0m\u001b[0;34m\u001b[0m\u001b[0;34m\u001b[0m\u001b[0;34m\u001b[0m\u001b[0m\n\u001b[1;32m    343\u001b[0m     \u001b[0;32mif\u001b[0m \u001b[0marrs\u001b[0m \u001b[0;32mand\u001b[0m \u001b[0marrs\u001b[0m\u001b[0;34m[\u001b[0m\u001b[0;36m0\u001b[0m\u001b[0;34m]\u001b[0m\u001b[0;34m.\u001b[0m\u001b[0mndim\u001b[0m \u001b[0;34m==\u001b[0m \u001b[0;36m1\u001b[0m\u001b[0;34m:\u001b[0m\u001b[0;34m\u001b[0m\u001b[0;34m\u001b[0m\u001b[0m\n\u001b[0;32m--> 344\u001b[0;31m         \u001b[0;32mreturn\u001b[0m \u001b[0m_nx\u001b[0m\u001b[0;34m.\u001b[0m\u001b[0mconcatenate\u001b[0m\u001b[0;34m(\u001b[0m\u001b[0marrs\u001b[0m\u001b[0;34m,\u001b[0m \u001b[0;36m0\u001b[0m\u001b[0;34m)\u001b[0m\u001b[0;34m\u001b[0m\u001b[0;34m\u001b[0m\u001b[0m\n\u001b[0m\u001b[1;32m    345\u001b[0m     \u001b[0;32melse\u001b[0m\u001b[0;34m:\u001b[0m\u001b[0;34m\u001b[0m\u001b[0;34m\u001b[0m\u001b[0m\n\u001b[1;32m    346\u001b[0m         \u001b[0;32mreturn\u001b[0m \u001b[0m_nx\u001b[0m\u001b[0;34m.\u001b[0m\u001b[0mconcatenate\u001b[0m\u001b[0;34m(\u001b[0m\u001b[0marrs\u001b[0m\u001b[0;34m,\u001b[0m \u001b[0;36m1\u001b[0m\u001b[0;34m)\u001b[0m\u001b[0;34m\u001b[0m\u001b[0;34m\u001b[0m\u001b[0m\n",
      "\u001b[0;32m<__array_function__ internals>\u001b[0m in \u001b[0;36mconcatenate\u001b[0;34m(*args, **kwargs)\u001b[0m\n",
      "\u001b[0;31mValueError\u001b[0m: all the input arrays must have same number of dimensions, but the array at index 0 has 1 dimension(s) and the array at index 1 has 2 dimension(s)"
     ]
    }
   ],
   "source": [
    "numpy.hstack([A[:,0],A[:,2:]])"
   ]
  },
  {
   "cell_type": "code",
   "execution_count": 78,
   "id": "fc369527",
   "metadata": {},
   "outputs": [
    {
     "data": {
      "text/plain": [
       "array([[1],\n",
       "       [4],\n",
       "       [7]])"
      ]
     },
     "execution_count": 78,
     "metadata": {},
     "output_type": "execute_result"
    }
   ],
   "source": [
    "A[:,:1]"
   ]
  },
  {
   "cell_type": "markdown",
   "id": "66450084",
   "metadata": {},
   "source": [
    "## Visualizing tabular data\n",
    "https://swcarpentry.github.io/python-novice-inflammation/03-matplotlib.html"
   ]
  },
  {
   "cell_type": "code",
   "execution_count": 83,
   "id": "fa1eeec0",
   "metadata": {},
   "outputs": [],
   "source": [
    "import matplotlib.pyplot as plt\n",
    "import numpy as np"
   ]
  },
  {
   "cell_type": "code",
   "execution_count": 80,
   "id": "12cbe984",
   "metadata": {},
   "outputs": [
    {
     "data": {
      "text/plain": [
       "<matplotlib.image.AxesImage at 0x7fc19cfb0810>"
      ]
     },
     "execution_count": 80,
     "metadata": {},
     "output_type": "execute_result"
    },
    {
     "data": {
      "image/png": "[encoded data removed]",
      "text/plain": [
       "<Figure size 432x288 with 1 Axes>"
      ]
     },
     "metadata": {
      "needs_background": "light"
     },
     "output_type": "display_data"
    }
   ],
   "source": [
    "plt.imshow(data)"
   ]
  },
  {
   "cell_type": "code",
   "execution_count": 82,
   "id": "9acd0ddc",
   "metadata": {},
   "outputs": [],
   "source": [
    "plt.show() # if you have not yet run magic python with %"
   ]
  },
  {
   "cell_type": "code",
   "execution_count": 84,
   "id": "ac771dc7",
   "metadata": {},
   "outputs": [],
   "source": [
    "ave_inflammation = np.mean(data, axis=0)"
   ]
  },
  {
   "cell_type": "code",
   "execution_count": 85,
   "id": "79a473b1",
   "metadata": {},
   "outputs": [
    {
     "data": {
      "image/png": "[encoded data removed]",
      "text/plain": [
       "<Figure size 432x288 with 1 Axes>"
      ]
     },
     "metadata": {
      "needs_background": "light"
     },
     "output_type": "display_data"
    }
   ],
   "source": [
    "ave_plot = plt.plot(ave_inflammation)"
   ]
  },
  {
   "cell_type": "code",
   "execution_count": 86,
   "id": "b248a70c",
   "metadata": {},
   "outputs": [
    {
     "data": {
      "image/png": "[encoded data removed]",
      "text/plain": [
       "<Figure size 432x288 with 1 Axes>"
      ]
     },
     "metadata": {
      "needs_background": "light"
     },
     "output_type": "display_data"
    }
   ],
   "source": [
    "max_plot = plt.plot(\n",
    "    np.amax(data, axis=0)\n",
    ")"
   ]
  },
  {
   "cell_type": "code",
   "execution_count": 87,
   "id": "386e62c7",
   "metadata": {},
   "outputs": [
    {
     "data": {
      "image/png": "[encoded data removed]",
      "text/plain": [
       "<Figure size 432x288 with 1 Axes>"
      ]
     },
     "metadata": {
      "needs_background": "light"
     },
     "output_type": "display_data"
    }
   ],
   "source": [
    "min_plot = plt.plot(\n",
    "    np.amin(data, axis=0)\n",
    ")"
   ]
  },
  {
   "cell_type": "code",
   "execution_count": 1,
   "id": "134b526f",
   "metadata": {
    "scrolled": false
   },
   "outputs": [
    {
     "data": {
      "image/png": "[encoded data removed]",
      "text/plain": [
       "<Figure size 720x216 with 3 Axes>"
      ]
     },
     "metadata": {
      "needs_background": "light"
     },
     "output_type": "display_data"
    }
   ],
   "source": [
    "import numpy as np\n",
    "import matplotlib.pyplot as plt\n",
    "\n",
    "data = np.loadtxt(fname='data/inflammation-01.csv', delimiter=',')\n",
    "\n",
    "fig = plt.figure(figsize=(10.0, 3.0))\n",
    "\n",
    "axes1 = fig.add_subplot(1, 3, 1)\n",
    "axes2 = fig.add_subplot(1, 3, 2)\n",
    "axes3 = fig.add_subplot(1, 3, 3)\n",
    "\n",
    "axes1.set_ylabel('average')\n",
    "axes1.plot(np.mean(data, axis=0))\n",
    "\n",
    "axes2.set_ylabel('max')\n",
    "axes2.plot(np.amax(data, axis=0))\n",
    "\n",
    "axes3.set_ylabel('min')\n",
    "axes3.plot(np.amin(data, axis=0))\n",
    "\n",
    "fig.tight_layout()\n",
    "\n",
    "plt.savefig('output/inflammation.png')\n",
    "plt.show()"
   ]
  },
  {
   "cell_type": "code",
   "execution_count": 3,
   "id": "35d444a6",
   "metadata": {},
   "outputs": [
    {
     "name": "stdout",
     "output_type": "stream",
     "text": [
      "Variable   Type           Data/Info\n",
      "-----------------------------------\n",
      "axes1      AxesSubplot    AxesSubplot(0.061875,0.128704;0.262825x0.821296)\n",
      "axes2      AxesSubplot    AxesSubplot(0.390208,0.128704;0.262825x0.821296)\n",
      "axes3      AxesSubplot    AxesSubplot(0.718542,0.128704;0.262825x0.821296)\n",
      "data       ndarray        60x40: 2400 elems, type `float64`, 19200 bytes\n",
      "fig        Figure         Figure(720x216)\n",
      "np         module         <module 'numpy' from '/Us<...>kages/numpy/__init__.py'>\n",
      "plt        module         <module 'matplotlib.pyplo<...>es/matplotlib/pyplot.py'>\n"
     ]
    }
   ],
   "source": [
    "%whos"
   ]
  },
  {
   "cell_type": "markdown",
   "id": "f948e376",
   "metadata": {},
   "source": [
    "## Lists\n",
    "https://swcarpentry.github.io/python-novice-inflammation/04-lists.html"
   ]
  },
  {
   "cell_type": "code",
   "execution_count": 89,
   "id": "6516f163",
   "metadata": {},
   "outputs": [],
   "source": [
    "odds = [1, 3, 5, 7]"
   ]
  },
  {
   "cell_type": "code",
   "execution_count": 90,
   "id": "53689fec",
   "metadata": {},
   "outputs": [
    {
     "data": {
      "text/plain": [
       "list"
      ]
     },
     "execution_count": 90,
     "metadata": {},
     "output_type": "execute_result"
    }
   ],
   "source": [
    "type(odds)"
   ]
  },
  {
   "cell_type": "code",
   "execution_count": 91,
   "id": "c843173c",
   "metadata": {},
   "outputs": [
    {
     "name": "stdout",
     "output_type": "stream",
     "text": [
      "first thing in list: 1\n"
     ]
    }
   ],
   "source": [
    "print('first thing in list:', odds[0])"
   ]
  },
  {
   "cell_type": "code",
   "execution_count": 92,
   "id": "be46b607",
   "metadata": {},
   "outputs": [
    {
     "name": "stdout",
     "output_type": "stream",
     "text": [
      "last thing in list: 7\n"
     ]
    }
   ],
   "source": [
    "print('last thing in list:', odds[-1])"
   ]
  },
  {
   "cell_type": "code",
   "execution_count": 93,
   "id": "de366edf",
   "metadata": {},
   "outputs": [
    {
     "name": "stdout",
     "output_type": "stream",
     "text": [
      "middle of list: [3, 5]\n"
     ]
    }
   ],
   "source": [
    "print('middle of list:', odds[1:3])"
   ]
  },
  {
   "cell_type": "code",
   "execution_count": 94,
   "id": "28f751ce",
   "metadata": {},
   "outputs": [],
   "source": [
    "names = ['Curie', 'Darwing', 'Turing']"
   ]
  },
  {
   "cell_type": "code",
   "execution_count": 95,
   "id": "fedadbf3",
   "metadata": {},
   "outputs": [
    {
     "data": {
      "text/plain": [
       "'D'"
      ]
     },
     "execution_count": 95,
     "metadata": {},
     "output_type": "execute_result"
    }
   ],
   "source": [
    "names[1][:1]"
   ]
  },
  {
   "cell_type": "code",
   "execution_count": 98,
   "id": "2e5e489e",
   "metadata": {},
   "outputs": [
    {
     "data": {
      "text/plain": [
       "'Darwin'"
      ]
     },
     "execution_count": 98,
     "metadata": {},
     "output_type": "execute_result"
    }
   ],
   "source": [
    "names[1][:-1]"
   ]
  },
  {
   "cell_type": "code",
   "execution_count": 99,
   "id": "2bdbd27c",
   "metadata": {},
   "outputs": [
    {
     "ename": "TypeError",
     "evalue": "'str' object does not support item assignment",
     "output_type": "error",
     "traceback": [
      "\u001b[0;31m---------------------------------------------------------------------------\u001b[0m",
      "\u001b[0;31mTypeError\u001b[0m                                 Traceback (most recent call last)",
      "\u001b[0;32m<ipython-input-99-5b81af5f9e74>\u001b[0m in \u001b[0;36m<module>\u001b[0;34m\u001b[0m\n\u001b[0;32m----> 1\u001b[0;31m \u001b[0mnames\u001b[0m\u001b[0;34m[\u001b[0m\u001b[0;36m1\u001b[0m\u001b[0;34m]\u001b[0m\u001b[0;34m[\u001b[0m\u001b[0;34m-\u001b[0m\u001b[0;36m1\u001b[0m\u001b[0;34m]\u001b[0m \u001b[0;34m=\u001b[0m \u001b[0;34m''\u001b[0m\u001b[0;34m\u001b[0m\u001b[0;34m\u001b[0m\u001b[0m\n\u001b[0m",
      "\u001b[0;31mTypeError\u001b[0m: 'str' object does not support item assignment"
     ]
    }
   ],
   "source": [
    "names[1][-1] = ''"
   ]
  },
  {
   "cell_type": "code",
   "execution_count": 100,
   "id": "db3d456c",
   "metadata": {},
   "outputs": [],
   "source": [
    "names[1] = names[1][:-1]"
   ]
  },
  {
   "cell_type": "code",
   "execution_count": 101,
   "id": "98e5472c",
   "metadata": {},
   "outputs": [
    {
     "name": "stdout",
     "output_type": "stream",
     "text": [
      "['Curie', 'Darwin', 'Turing']\n"
     ]
    }
   ],
   "source": [
    "print(names)"
   ]
  },
  {
   "cell_type": "code",
   "execution_count": 102,
   "id": "7f25e433",
   "metadata": {},
   "outputs": [
    {
     "name": "stdout",
     "output_type": "stream",
     "text": [
      "mild: ['hot peppers', 'onions', 'cilantro', 'tomatoes']\n",
      "hot: ['hot peppers', 'onions', 'cilantro', 'tomatoes']\n"
     ]
    }
   ],
   "source": [
    "mild_salsa = ['peppers', 'onions', 'cilantro', 'tomatoes']\n",
    "hot_salsa = mild_salsa\n",
    "hot_salsa[0] = 'hot peppers'\n",
    "print('mild:', mild_salsa)\n",
    "print('hot:', hot_salsa)"
   ]
  },
  {
   "cell_type": "code",
   "execution_count": 103,
   "id": "58a7810d",
   "metadata": {},
   "outputs": [
    {
     "name": "stdout",
     "output_type": "stream",
     "text": [
      "mild: ['peppers', 'onions', 'cilantro', 'tomatoes']\n",
      "hot: ['hot peppers', 'onions', 'cilantro', 'tomatoes']\n"
     ]
    }
   ],
   "source": [
    "mild_salsa = ['peppers', 'onions', 'cilantro', 'tomatoes']\n",
    "hot_salsa = list(mild_salsa)\n",
    "hot_salsa[0] = 'hot peppers'\n",
    "print('mild:', mild_salsa)\n",
    "print('hot:', hot_salsa)"
   ]
  },
  {
   "cell_type": "code",
   "execution_count": 104,
   "id": "4a933cbb",
   "metadata": {},
   "outputs": [],
   "source": [
    "veg = [\n",
    "    ['lettuce','spinach','kale','arrugula'],\n",
    "    ['carrot','onion','radish','parsnip'],\n",
    "    ['cilantro','basil','oregano','tarragon']\n",
    "]"
   ]
  },
  {
   "cell_type": "code",
   "execution_count": 106,
   "id": "fb8f1f5f",
   "metadata": {},
   "outputs": [
    {
     "data": {
      "text/plain": [
       "'lettuce'"
      ]
     },
     "execution_count": 106,
     "metadata": {},
     "output_type": "execute_result"
    }
   ],
   "source": [
    "veg[0][0]"
   ]
  },
  {
   "cell_type": "code",
   "execution_count": 107,
   "id": "eaaf73ff",
   "metadata": {},
   "outputs": [],
   "source": [
    "veg.append(['red sauce',30,'pots and pans',45.8,'30 minutes'])"
   ]
  },
  {
   "cell_type": "code",
   "execution_count": 108,
   "id": "0fdb054d",
   "metadata": {},
   "outputs": [
    {
     "name": "stdout",
     "output_type": "stream",
     "text": [
      "[['lettuce', 'spinach', 'kale', 'arrugula'], ['carrot', 'onion', 'radish', 'parsnip'], ['cilantro', 'basil', 'oregano', 'tarragon'], ['red sauce', 30, 'pots and pans', 45.8, '30 minutes']]\n"
     ]
    }
   ],
   "source": [
    "print(veg)"
   ]
  },
  {
   "cell_type": "code",
   "execution_count": 109,
   "id": "1f4ae33c",
   "metadata": {},
   "outputs": [
    {
     "data": {
      "text/plain": [
       "[['lettuce', 'spinach', 'kale', 'arrugula'],\n",
       " ['carrot', 'onion', 'radish', 'parsnip'],\n",
       " ['cilantro', 'basil', 'oregano', 'tarragon'],\n",
       " ['red sauce', 30, 'pots and pans', 45.8, '30 minutes']]"
      ]
     },
     "execution_count": 109,
     "metadata": {},
     "output_type": "execute_result"
    }
   ],
   "source": [
    "veg"
   ]
  },
  {
   "cell_type": "code",
   "execution_count": 110,
   "id": "96bb3d40",
   "metadata": {},
   "outputs": [],
   "source": [
    "leafies = veg[0]"
   ]
  },
  {
   "cell_type": "code",
   "execution_count": 111,
   "id": "9b0b7a31",
   "metadata": {},
   "outputs": [
    {
     "data": {
      "text/plain": [
       "'lettuce'"
      ]
     },
     "execution_count": 111,
     "metadata": {},
     "output_type": "execute_result"
    }
   ],
   "source": [
    "leafies.pop(0)"
   ]
  },
  {
   "cell_type": "code",
   "execution_count": 112,
   "id": "0e09a1dc",
   "metadata": {},
   "outputs": [
    {
     "data": {
      "text/plain": [
       "['spinach', 'kale', 'arrugula']"
      ]
     },
     "execution_count": 112,
     "metadata": {},
     "output_type": "execute_result"
    }
   ],
   "source": [
    "leafies"
   ]
  },
  {
   "cell_type": "code",
   "execution_count": 113,
   "id": "e84f9627",
   "metadata": {},
   "outputs": [
    {
     "data": {
      "text/plain": [
       "[['spinach', 'kale', 'arrugula'],\n",
       " ['carrot', 'onion', 'radish', 'parsnip'],\n",
       " ['cilantro', 'basil', 'oregano', 'tarragon'],\n",
       " ['red sauce', 30, 'pots and pans', 45.8, '30 minutes']]"
      ]
     },
     "execution_count": 113,
     "metadata": {},
     "output_type": "execute_result"
    }
   ],
   "source": [
    "veg"
   ]
  },
  {
   "cell_type": "code",
   "execution_count": 117,
   "id": "9ddbfcc0",
   "metadata": {},
   "outputs": [],
   "source": [
    "leafies.sort()"
   ]
  },
  {
   "cell_type": "code",
   "execution_count": 118,
   "id": "7a8b7434",
   "metadata": {},
   "outputs": [
    {
     "data": {
      "text/plain": [
       "['arrugula', 'kale', 'spinach']"
      ]
     },
     "execution_count": 118,
     "metadata": {},
     "output_type": "execute_result"
    }
   ],
   "source": [
    "leafies"
   ]
  },
  {
   "cell_type": "code",
   "execution_count": 119,
   "id": "54c2fc5a",
   "metadata": {},
   "outputs": [
    {
     "ename": "TypeError",
     "evalue": "'<' not supported between instances of 'int' and 'str'",
     "output_type": "error",
     "traceback": [
      "\u001b[0;31m---------------------------------------------------------------------------\u001b[0m",
      "\u001b[0;31mTypeError\u001b[0m                                 Traceback (most recent call last)",
      "\u001b[0;32m<ipython-input-119-b9d284c7911f>\u001b[0m in \u001b[0;36m<module>\u001b[0;34m\u001b[0m\n\u001b[0;32m----> 1\u001b[0;31m \u001b[0mveg\u001b[0m\u001b[0;34m[\u001b[0m\u001b[0;36m3\u001b[0m\u001b[0;34m]\u001b[0m\u001b[0;34m.\u001b[0m\u001b[0msort\u001b[0m\u001b[0;34m(\u001b[0m\u001b[0;34m)\u001b[0m\u001b[0;34m\u001b[0m\u001b[0;34m\u001b[0m\u001b[0m\n\u001b[0m",
      "\u001b[0;31mTypeError\u001b[0m: '<' not supported between instances of 'int' and 'str'"
     ]
    }
   ],
   "source": [
    "veg[3].sort()"
   ]
  },
  {
   "cell_type": "markdown",
   "id": "33e6a103",
   "metadata": {},
   "source": [
    "## Repeating with Loops\n",
    "https://swcarpentry.github.io/python-novice-inflammation/05-loop.html"
   ]
  },
  {
   "cell_type": "code",
   "execution_count": 2,
   "id": "0cdd8a21",
   "metadata": {},
   "outputs": [
    {
     "name": "stdout",
     "output_type": "stream",
     "text": [
      "1\n",
      "3\n",
      "5\n",
      "7\n"
     ]
    }
   ],
   "source": [
    "odds = [1,3,5,7]\n",
    "print(odds[0])\n",
    "print(odds[1])\n",
    "print(odds[2])\n",
    "print(odds[3])"
   ]
  },
  {
   "cell_type": "code",
   "execution_count": 3,
   "id": "94142173",
   "metadata": {},
   "outputs": [
    {
     "name": "stdout",
     "output_type": "stream",
     "text": [
      "1\n",
      "3\n",
      "5\n",
      "7\n"
     ]
    }
   ],
   "source": [
    "for number in odds:\n",
    "    print(number)"
   ]
  },
  {
   "cell_type": "code",
   "execution_count": 4,
   "id": "42bab492",
   "metadata": {},
   "outputs": [
    {
     "name": "stdout",
     "output_type": "stream",
     "text": [
      "1\n",
      "hello\n",
      "3\n",
      "hello\n",
      "5\n",
      "hello\n",
      "7\n",
      "hello\n"
     ]
    }
   ],
   "source": [
    "for number in odds:\n",
    "    print(number)\n",
    "    print('hello')"
   ]
  },
  {
   "cell_type": "code",
   "execution_count": 5,
   "id": "742de033",
   "metadata": {},
   "outputs": [
    {
     "name": "stdout",
     "output_type": "stream",
     "text": [
      "1\n",
      "3\n",
      "5\n",
      "7\n",
      "hello\n"
     ]
    }
   ],
   "source": [
    "for number in odds:\n",
    "    print(number)\n",
    "print('hello')"
   ]
  },
  {
   "cell_type": "code",
   "execution_count": 6,
   "id": "63d15376",
   "metadata": {},
   "outputs": [
    {
     "name": "stdout",
     "output_type": "stream",
     "text": [
      "there are 3 names\n"
     ]
    }
   ],
   "source": [
    "length = 0\n",
    "names = ['Curie', 'Darwin', 'Turing']\n",
    "for name in names:\n",
    "    length = length + 1\n",
    "\n",
    "print(\"there are\",length,\"names\")"
   ]
  },
  {
   "cell_type": "code",
   "execution_count": 7,
   "id": "f010993a",
   "metadata": {},
   "outputs": [
    {
     "data": {
      "text/plain": [
       "3"
      ]
     },
     "execution_count": 7,
     "metadata": {},
     "output_type": "execute_result"
    }
   ],
   "source": [
    "len(names)"
   ]
  },
  {
   "cell_type": "code",
   "execution_count": 8,
   "id": "6de4e0d8",
   "metadata": {},
   "outputs": [
    {
     "name": "stdout",
     "output_type": "stream",
     "text": [
      "Turing\n"
     ]
    }
   ],
   "source": [
    "name = 'Tim'\n",
    "names = ['Curie', 'Darwin', 'Turing']\n",
    "for name in names:\n",
    "    length = length + 1\n",
    "    \n",
    "print(name)"
   ]
  },
  {
   "cell_type": "code",
   "execution_count": 11,
   "id": "49cf75f4",
   "metadata": {},
   "outputs": [
    {
     "name": "stdout",
     "output_type": "stream",
     "text": [
      "negyxo\n"
     ]
    }
   ],
   "source": [
    "word = 'oxygen'\n",
    "\n",
    "temp = ''\n",
    "for char in word:\n",
    "    temp = char + temp\n",
    "\n",
    "word = temp\n",
    "print(word)"
   ]
  },
  {
   "cell_type": "code",
   "execution_count": 12,
   "id": "56370235",
   "metadata": {},
   "outputs": [
    {
     "ename": "AttributeError",
     "evalue": "'str' object has no attribute 'reverse'",
     "output_type": "error",
     "traceback": [
      "\u001b[0;31m---------------------------------------------------------------------------\u001b[0m",
      "\u001b[0;31mAttributeError\u001b[0m                            Traceback (most recent call last)",
      "\u001b[0;32m<ipython-input-12-07591a61ae8b>\u001b[0m in \u001b[0;36m<module>\u001b[0;34m\u001b[0m\n\u001b[0;32m----> 1\u001b[0;31m \u001b[0mword\u001b[0m\u001b[0;34m.\u001b[0m\u001b[0mreverse\u001b[0m\u001b[0;34m(\u001b[0m\u001b[0;34m)\u001b[0m\u001b[0;34m\u001b[0m\u001b[0;34m\u001b[0m\u001b[0m\n\u001b[0m",
      "\u001b[0;31mAttributeError\u001b[0m: 'str' object has no attribute 'reverse'"
     ]
    }
   ],
   "source": [
    "word.reverse()"
   ]
  },
  {
   "cell_type": "markdown",
   "id": "75268799",
   "metadata": {},
   "source": [
    "## Data from Multiple Files\n",
    "https://swcarpentry.github.io/python-novice-inflammation/06-files.html"
   ]
  },
  {
   "cell_type": "code",
   "execution_count": 13,
   "id": "061d4be9",
   "metadata": {},
   "outputs": [
    {
     "name": "stdout",
     "output_type": "stream",
     "text": [
      "20250320_swc_python_setup.txt  \u001b[34moutput\u001b[m\u001b[m/\r\n",
      "\u001b[34mdata\u001b[m\u001b[m/                          swc_python.ipynb\r\n"
     ]
    }
   ],
   "source": [
    "ls"
   ]
  },
  {
   "cell_type": "code",
   "execution_count": 16,
   "id": "c09ac634",
   "metadata": {},
   "outputs": [
    {
     "name": "stdout",
     "output_type": "stream",
     "text": [
      "inflammation-01.csv  inflammation-06.csv  inflammation-11.csv\r\n",
      "inflammation-02.csv  inflammation-07.csv  inflammation-12.csv\r\n",
      "inflammation-03.csv  inflammation-08.csv  small-01.csv\r\n",
      "inflammation-04.csv  inflammation-09.csv  small-02.csv\r\n",
      "inflammation-05.csv  inflammation-10.csv  small-03.csv\r\n"
     ]
    }
   ],
   "source": [
    "ls data"
   ]
  },
  {
   "cell_type": "code",
   "execution_count": 18,
   "id": "7aca403d",
   "metadata": {},
   "outputs": [],
   "source": [
    "import glob"
   ]
  },
  {
   "cell_type": "code",
   "execution_count": 19,
   "id": "0a863977",
   "metadata": {},
   "outputs": [
    {
     "data": {
      "text/plain": [
       "['data/inflammation-05.csv',\n",
       " 'data/inflammation-11.csv',\n",
       " 'data/inflammation-10.csv',\n",
       " 'data/inflammation-04.csv',\n",
       " 'data/inflammation-12.csv',\n",
       " 'data/inflammation-06.csv',\n",
       " 'data/inflammation-07.csv',\n",
       " 'data/inflammation-03.csv',\n",
       " 'data/inflammation-02.csv',\n",
       " 'data/inflammation-01.csv',\n",
       " 'data/inflammation-09.csv',\n",
       " 'data/inflammation-08.csv']"
      ]
     },
     "execution_count": 19,
     "metadata": {},
     "output_type": "execute_result"
    }
   ],
   "source": [
    "glob.glob('data/inflammation-*.csv')"
   ]
  },
  {
   "cell_type": "code",
   "execution_count": 20,
   "id": "979dcc51",
   "metadata": {},
   "outputs": [],
   "source": [
    "files = glob.glob('data/inflammation-*.csv')"
   ]
  },
  {
   "cell_type": "code",
   "execution_count": 21,
   "id": "46b740c5",
   "metadata": {},
   "outputs": [
    {
     "data": {
      "text/plain": [
       "list"
      ]
     },
     "execution_count": 21,
     "metadata": {},
     "output_type": "execute_result"
    }
   ],
   "source": [
    "type(files)"
   ]
  },
  {
   "cell_type": "code",
   "execution_count": 22,
   "id": "0f104e46",
   "metadata": {},
   "outputs": [],
   "source": [
    "files.sort()"
   ]
  },
  {
   "cell_type": "code",
   "execution_count": 23,
   "id": "47258a6c",
   "metadata": {},
   "outputs": [
    {
     "data": {
      "text/plain": [
       "['data/inflammation-01.csv',\n",
       " 'data/inflammation-02.csv',\n",
       " 'data/inflammation-03.csv',\n",
       " 'data/inflammation-04.csv',\n",
       " 'data/inflammation-05.csv',\n",
       " 'data/inflammation-06.csv',\n",
       " 'data/inflammation-07.csv',\n",
       " 'data/inflammation-08.csv',\n",
       " 'data/inflammation-09.csv',\n",
       " 'data/inflammation-10.csv',\n",
       " 'data/inflammation-11.csv',\n",
       " 'data/inflammation-12.csv']"
      ]
     },
     "execution_count": 23,
     "metadata": {},
     "output_type": "execute_result"
    }
   ],
   "source": [
    "files"
   ]
  },
  {
   "cell_type": "code",
   "execution_count": 49,
   "id": "8ed3f00a",
   "metadata": {
    "scrolled": true
   },
   "outputs": [
    {
     "name": "stdout",
     "output_type": "stream",
     "text": [
      "data/inflammation-01.csv\n"
     ]
    },
    {
     "data": {
      "image/png": "[encoded data removed]",
      "text/plain": [
       "<Figure size 720x216 with 3 Axes>"
      ]
     },
     "metadata": {
      "needs_background": "light"
     },
     "output_type": "display_data"
    }
   ],
   "source": [
    "import numpy as np\n",
    "import matplotlib.pyplot as plt\n",
    "import glob\n",
    "\n",
    "files = glob.glob('data/inflammation-*.csv')\n",
    "files.sort()\n",
    "\n",
    "path, extension = 'output/', 'png'\n",
    "\n",
    "for file in files[:1]:\n",
    "    \n",
    "    # get the data\n",
    "    print(file)\n",
    "    data = np.loadtxt(fname=file, delimiter=',')\n",
    "\n",
    "    # set up figure\n",
    "    fig = plt.figure(figsize=(10.0, 3.0))\n",
    "\n",
    "    # set up plots\n",
    "    axes1 = fig.add_subplot(1, 3, 1)\n",
    "    axes2 = fig.add_subplot(1, 3, 2)\n",
    "    axes3 = fig.add_subplot(1, 3, 3)\n",
    "\n",
    "    # plot the mean\n",
    "    axes1.set_ylabel('average')\n",
    "    axes1.plot(np.mean(data, axis=0))\n",
    "\n",
    "    # plot the max\n",
    "    axes2.set_ylabel('max')\n",
    "    axes2.plot(np.amax(data, axis=0))\n",
    "\n",
    "    # plot the min\n",
    "    axes3.set_ylabel('min')\n",
    "    axes3.plot(np.amin(data, axis=0))\n",
    "\n",
    "    fig.tight_layout()\n",
    "\n",
    "    plt.savefig(path + file[5:-3] + extension)\n",
    "    plt.show()"
   ]
  },
  {
   "cell_type": "code",
   "execution_count": 25,
   "id": "b8c674cc",
   "metadata": {},
   "outputs": [
    {
     "name": "stdout",
     "output_type": "stream",
     "text": [
      "output/inflammation-02.png\n"
     ]
    }
   ],
   "source": [
    "file = 'data/inflammation-02.csv'\n",
    "path, extension = 'output/', 'png'\n",
    "outfile = path + file[5:-3] + extension\n",
    "print(outfile)"
   ]
  },
  {
   "cell_type": "markdown",
   "id": "d91be62b",
   "metadata": {},
   "source": [
    "## making choices\n",
    "https://swcarpentry.github.io/python-novice-inflammation/07-cond.html"
   ]
  },
  {
   "cell_type": "code",
   "execution_count": 30,
   "id": "fd47ae1e",
   "metadata": {},
   "outputs": [
    {
     "name": "stdout",
     "output_type": "stream",
     "text": [
      "greater\n",
      "done\n"
     ]
    }
   ],
   "source": [
    "num = 101\n",
    "\n",
    "if num > 100:\n",
    "    print('greater')\n",
    "else:\n",
    "    print ('not greater')\n",
    "    \n",
    "print('done')"
   ]
  },
  {
   "cell_type": "code",
   "execution_count": 31,
   "id": "69c548ee",
   "metadata": {},
   "outputs": [
    {
     "name": "stdout",
     "output_type": "stream",
     "text": [
      "negative\n"
     ]
    }
   ],
   "source": [
    "num = -3\n",
    "if num > 0:\n",
    "    print('greater')\n",
    "elif num == 0:\n",
    "    print('equals')\n",
    "else:\n",
    "    print('negative')"
   ]
  },
  {
   "cell_type": "code",
   "execution_count": 32,
   "id": "0d7984fa",
   "metadata": {},
   "outputs": [
    {
     "name": "stdout",
     "output_type": "stream",
     "text": [
      "true\n"
     ]
    }
   ],
   "source": [
    "if num <= -3:\n",
    "    print('true')"
   ]
  },
  {
   "cell_type": "code",
   "execution_count": 34,
   "id": "7812e0ec",
   "metadata": {},
   "outputs": [
    {
     "name": "stdout",
     "output_type": "stream",
     "text": [
      "false\n"
     ]
    }
   ],
   "source": [
    "if num != -3:\n",
    "    print('true')\n",
    "else:\n",
    "    print('false')"
   ]
  },
  {
   "cell_type": "code",
   "execution_count": 35,
   "id": "21197d72",
   "metadata": {},
   "outputs": [],
   "source": [
    "if (1 > 0) and (-1 >= 0):\n",
    "    print('true')"
   ]
  },
  {
   "cell_type": "code",
   "execution_count": 36,
   "id": "e795933e",
   "metadata": {},
   "outputs": [
    {
     "name": "stdout",
     "output_type": "stream",
     "text": [
      "true\n"
     ]
    }
   ],
   "source": [
    "if (1 > 0) or (-1 >= 0):\n",
    "    print('true')"
   ]
  },
  {
   "cell_type": "code",
   "execution_count": 42,
   "id": "241eb131",
   "metadata": {},
   "outputs": [
    {
     "name": "stdout",
     "output_type": "stream",
     "text": [
      "true\n"
     ]
    }
   ],
   "source": [
    "variable = \"Tim\"\n",
    "if variable:\n",
    "    print('true')\n",
    "else:\n",
    "    print('false')"
   ]
  },
  {
   "cell_type": "code",
   "execution_count": 43,
   "id": "3c1505ea",
   "metadata": {},
   "outputs": [
    {
     "name": "stdout",
     "output_type": "stream",
     "text": [
      "Variable    Type           Data/Info\n",
      "------------------------------------\n",
      "axes1       AxesSubplot    AxesSubplot(0.0617014,0.128704;0.246448x0.819497)\n",
      "axes2       AxesSubplot    AxesSubplot(0.39831,0.128704;0.246448x0.819497)\n",
      "axes3       AxesSubplot    AxesSubplot(0.734919,0.128704;0.246448x0.819497)\n",
      "char        str            n\n",
      "data        ndarray        60x40: 2400 elems, type `float64`, 19200 bytes\n",
      "extension   str            png\n",
      "fig         Figure         Figure(720x216)\n",
      "file        str            data/inflammation-03.csv\n",
      "files       list           n=12\n",
      "glob        module         <module 'glob' from '/Use<...>7/lib/python3.7/glob.py'>\n",
      "length      int            6\n",
      "name        str            Turing\n",
      "names       list           n=3\n",
      "np          module         <module 'numpy' from '/Us<...>kages/numpy/__init__.py'>\n",
      "num         int            -3\n",
      "number      int            7\n",
      "odds        list           n=4\n",
      "outfile     str            output/inflammation-02.png\n",
      "path        str            output/\n",
      "plt         module         <module 'matplotlib.pyplo<...>es/matplotlib/pyplot.py'>\n",
      "temp        str            negyxo\n",
      "variable    str            Tim\n",
      "word        str            negyxo\n"
     ]
    }
   ],
   "source": [
    "%whos"
   ]
  },
  {
   "cell_type": "code",
   "execution_count": 46,
   "id": "089cf11f",
   "metadata": {},
   "outputs": [
    {
     "name": "stdout",
     "output_type": "stream",
     "text": [
      "suspicious maxima\n"
     ]
    }
   ],
   "source": [
    "max_inflammation_0 = np.amax(data, axis=0)[0]\n",
    "max_inflammation_20 = np.amax(data, axis=0)[20]\n",
    "\n",
    "if max_inflammation_0 == 0 and max_inflammation_20 == 20:\n",
    "    print('suspicious maxima')"
   ]
  },
  {
   "cell_type": "code",
   "execution_count": 50,
   "id": "3a8ced04",
   "metadata": {},
   "outputs": [],
   "source": [
    "if np.sum(np.amin(data, axis=0)) == 0:\n",
    "    print('suspicious minima')"
   ]
  },
  {
   "cell_type": "code",
   "execution_count": null,
   "id": "fc00a278",
   "metadata": {},
   "outputs": [],
   "source": [
    "if np.amax(data, axis=0)[0] == 0 and np.amax(data, axis=0)[20] == 20:\n",
    "    print('suspicious maxima')\n",
    "elif np.sum(np.amin(data, axis=0)) == 0:\n",
    "    print('suspicious minima')\n",
    "else: \n",
    "    print('passed')"
   ]
  },
  {
   "cell_type": "code",
   "execution_count": 51,
   "id": "ac6a193c",
   "metadata": {},
   "outputs": [
    {
     "name": "stdout",
     "output_type": "stream",
     "text": [
      "data/inflammation-01.csv\n",
      "suspicious maxima\n"
     ]
    },
    {
     "data": {
      "image/png": "[encoded data removed]",
      "text/plain": [
       "<Figure size 720x216 with 3 Axes>"
      ]
     },
     "metadata": {
      "needs_background": "light"
     },
     "output_type": "display_data"
    },
    {
     "name": "stdout",
     "output_type": "stream",
     "text": [
      "data/inflammation-02.csv\n",
      "suspicious maxima\n"
     ]
    },
    {
     "data": {
      "image/png": "[encoded data removed]",
      "text/plain": [
       "<Figure size 720x216 with 3 Axes>"
      ]
     },
     "metadata": {
      "needs_background": "light"
     },
     "output_type": "display_data"
    },
    {
     "name": "stdout",
     "output_type": "stream",
     "text": [
      "data/inflammation-03.csv\n",
      "suspicious minima\n"
     ]
    },
    {
     "data": {
      "image/png": "[encoded data removed]",
      "text/plain": [
       "<Figure size 720x216 with 3 Axes>"
      ]
     },
     "metadata": {
      "needs_background": "light"
     },
     "output_type": "display_data"
    },
    {
     "name": "stdout",
     "output_type": "stream",
     "text": [
      "data/inflammation-04.csv\n",
      "suspicious maxima\n"
     ]
    },
    {
     "data": {
      "image/png": "[encoded data removed]",
      "text/plain": [
       "<Figure size 720x216 with 3 Axes>"
      ]
     },
     "metadata": {
      "needs_background": "light"
     },
     "output_type": "display_data"
    },
    {
     "name": "stdout",
     "output_type": "stream",
     "text": [
      "data/inflammation-05.csv\n",
      "suspicious maxima\n"
     ]
    },
    {
     "data": {
      "image/png": "[encoded data removed]",
      "text/plain": [
       "<Figure size 720x216 with 3 Axes>"
      ]
     },
     "metadata": {
      "needs_background": "light"
     },
     "output_type": "display_data"
    },
    {
     "name": "stdout",
     "output_type": "stream",
     "text": [
      "data/inflammation-06.csv\n",
      "suspicious maxima\n"
     ]
    },
    {
     "data": {
      "image/png": "[encoded data removed]",
      "text/plain": [
       "<Figure size 720x216 with 3 Axes>"
      ]
     },
     "metadata": {
      "needs_background": "light"
     },
     "output_type": "display_data"
    },
    {
     "name": "stdout",
     "output_type": "stream",
     "text": [
      "data/inflammation-07.csv\n",
      "suspicious maxima\n"
     ]
    },
    {
     "data": {
      "image/png": "[encoded data removed]",
      "text/plain": [
       "<Figure size 720x216 with 3 Axes>"
      ]
     },
     "metadata": {
      "needs_background": "light"
     },
     "output_type": "display_data"
    },
    {
     "name": "stdout",
     "output_type": "stream",
     "text": [
      "data/inflammation-08.csv\n",
      "suspicious minima\n"
     ]
    },
    {
     "data": {
      "image/png": "[encoded data removed]",
      "text/plain": [
       "<Figure size 720x216 with 3 Axes>"
      ]
     },
     "metadata": {
      "needs_background": "light"
     },
     "output_type": "display_data"
    },
    {
     "name": "stdout",
     "output_type": "stream",
     "text": [
      "data/inflammation-09.csv\n",
      "suspicious maxima\n"
     ]
    },
    {
     "data": {
      "image/png": "[encoded data removed]",
      "text/plain": [
       "<Figure size 720x216 with 3 Axes>"
      ]
     },
     "metadata": {
      "needs_background": "light"
     },
     "output_type": "display_data"
    },
    {
     "name": "stdout",
     "output_type": "stream",
     "text": [
      "data/inflammation-10.csv\n",
      "suspicious maxima\n"
     ]
    },
    {
     "data": {
      "image/png": "[encoded data removed]",
      "text/plain": [
       "<Figure size 720x216 with 3 Axes>"
      ]
     },
     "metadata": {
      "needs_background": "light"
     },
     "output_type": "display_data"
    },
    {
     "name": "stdout",
     "output_type": "stream",
     "text": [
      "data/inflammation-11.csv\n",
      "suspicious minima\n"
     ]
    },
    {
     "data": {
      "image/png": "[encoded data removed]",
      "text/plain": [
       "<Figure size 720x216 with 3 Axes>"
      ]
     },
     "metadata": {
      "needs_background": "light"
     },
     "output_type": "display_data"
    },
    {
     "name": "stdout",
     "output_type": "stream",
     "text": [
      "data/inflammation-12.csv\n",
      "suspicious maxima\n"
     ]
    },
    {
     "data": {
      "image/png": "[encoded data removed]",
      "text/plain": [
       "<Figure size 720x216 with 3 Axes>"
      ]
     },
     "metadata": {
      "needs_background": "light"
     },
     "output_type": "display_data"
    }
   ],
   "source": [
    "import numpy as np\n",
    "import matplotlib.pyplot as plt\n",
    "import glob\n",
    "\n",
    "files = glob.glob('data/inflammation-*.csv')\n",
    "files.sort()\n",
    "\n",
    "path, extension = 'output/', 'png'\n",
    "\n",
    "for file in files:\n",
    "    \n",
    "    # get the data\n",
    "    print(file)\n",
    "    data = np.loadtxt(fname=file, delimiter=',')\n",
    "\n",
    "    # run simple checks\n",
    "    if np.amax(data, axis=0)[0] == 0 and np.amax(data, axis=0)[20] == 20:\n",
    "        print('suspicious maxima')\n",
    "    elif np.sum(np.amin(data, axis=0)) == 0:\n",
    "        print('suspicious minima')\n",
    "    else: \n",
    "        print('passed')\n",
    "\n",
    "    # set up figure\n",
    "    fig = plt.figure(figsize=(10.0, 3.0))\n",
    "\n",
    "    # set up plots\n",
    "    axes1 = fig.add_subplot(1, 3, 1)\n",
    "    axes2 = fig.add_subplot(1, 3, 2)\n",
    "    axes3 = fig.add_subplot(1, 3, 3)\n",
    "\n",
    "    # plot the mean\n",
    "    axes1.set_ylabel('average')\n",
    "    axes1.plot(np.mean(data, axis=0))\n",
    "\n",
    "    # plot the max\n",
    "    axes2.set_ylabel('max')\n",
    "    axes2.plot(np.amax(data, axis=0))\n",
    "\n",
    "    # plot the min\n",
    "    axes3.set_ylabel('min')\n",
    "    axes3.plot(np.amin(data, axis=0))\n",
    "\n",
    "    fig.tight_layout()\n",
    "\n",
    "    plt.savefig(path + file[5:-3] + extension)\n",
    "    plt.show()"
   ]
  },
  {
   "cell_type": "markdown",
   "id": "72b485dd",
   "metadata": {},
   "source": [
    "## Functions\n",
    "https://swcarpentry.github.io/python-novice-inflammation/08-func.html"
   ]
  },
  {
   "cell_type": "code",
   "execution_count": 52,
   "id": "413ac872",
   "metadata": {},
   "outputs": [
    {
     "name": "stdout",
     "output_type": "stream",
     "text": [
      "99 is  37.22222222222222\n"
     ]
    }
   ],
   "source": [
    "temp_fahrenheit = 99\n",
    "temp_celsius = ((temp_fahrenheit - 32) * (5 / 9))\n",
    "print (temp_fahrenheit,'is ',temp_celsius)"
   ]
  },
  {
   "cell_type": "code",
   "execution_count": 53,
   "id": "173d75ec",
   "metadata": {},
   "outputs": [],
   "source": [
    "def fahr_to_celcius(temp):\n",
    "    converted = ((temp - 32) * (5 / 9))\n",
    "    return converted"
   ]
  },
  {
   "cell_type": "code",
   "execution_count": 54,
   "id": "20ecbb44",
   "metadata": {},
   "outputs": [
    {
     "name": "stdout",
     "output_type": "stream",
     "text": [
      "Variable              Type           Data/Info\n",
      "----------------------------------------------\n",
      "axes1                 AxesSubplot    AxesSubplot(0.061875,0.128704;0.262825x0.821296)\n",
      "axes2                 AxesSubplot    AxesSubplot(0.390208,0.128704;0.262825x0.821296)\n",
      "axes3                 AxesSubplot    AxesSubplot(0.718542,0.128704;0.262825x0.821296)\n",
      "char                  str            n\n",
      "data                  ndarray        60x40: 2400 elems, type `float64`, 19200 bytes\n",
      "extension             str            png\n",
      "fahr_to_celcius       function       <function fahr_to_celcius at 0x7fd20cc2e8c0>\n",
      "fig                   Figure         Figure(720x216)\n",
      "file                  str            data/inflammation-12.csv\n",
      "files                 list           n=12\n",
      "glob                  module         <module 'glob' from '/Use<...>7/lib/python3.7/glob.py'>\n",
      "length                int            6\n",
      "max_inflammation_0    float64        0.0\n",
      "max_inflammation_20   float64        20.0\n",
      "name                  str            Turing\n",
      "names                 list           n=3\n",
      "np                    module         <module 'numpy' from '/Us<...>kages/numpy/__init__.py'>\n",
      "num                   int            -3\n",
      "number                int            7\n",
      "odds                  list           n=4\n",
      "outfile               str            output/inflammation-02.png\n",
      "path                  str            output/\n",
      "plt                   module         <module 'matplotlib.pyplo<...>es/matplotlib/pyplot.py'>\n",
      "temp                  str            negyxo\n",
      "temp_celsius          float          37.22222222222222\n",
      "temp_fahrenheit       int            99\n",
      "variable              str            Tim\n",
      "word                  str            negyxo\n"
     ]
    }
   ],
   "source": [
    "%whos"
   ]
  },
  {
   "cell_type": "code",
   "execution_count": 55,
   "id": "631485f9",
   "metadata": {},
   "outputs": [
    {
     "data": {
      "text/plain": [
       "37.22222222222222"
      ]
     },
     "execution_count": 55,
     "metadata": {},
     "output_type": "execute_result"
    }
   ],
   "source": [
    "fahr_to_celcius(99)"
   ]
  },
  {
   "cell_type": "code",
   "execution_count": 56,
   "id": "2863e8a2",
   "metadata": {},
   "outputs": [],
   "source": [
    "def fahr_to_celcius(temp):\n",
    "    return ((temp - 32) * (5 / 9))"
   ]
  },
  {
   "cell_type": "code",
   "execution_count": 57,
   "id": "a209b6de",
   "metadata": {},
   "outputs": [
    {
     "data": {
      "text/plain": [
       "37.22222222222222"
      ]
     },
     "execution_count": 57,
     "metadata": {},
     "output_type": "execute_result"
    }
   ],
   "source": [
    "fahr_to_celcius(99)"
   ]
  },
  {
   "cell_type": "code",
   "execution_count": 58,
   "id": "a1a7a13d",
   "metadata": {},
   "outputs": [],
   "source": [
    "def celsius_to_kelvin(temp):\n",
    "    return temp + 273.15"
   ]
  },
  {
   "cell_type": "code",
   "execution_count": 59,
   "id": "124753a9",
   "metadata": {},
   "outputs": [
    {
     "data": {
      "text/plain": [
       "310.37222222222"
      ]
     },
     "execution_count": 59,
     "metadata": {},
     "output_type": "execute_result"
    }
   ],
   "source": [
    "celsius_to_kelvin(37.22222222222)"
   ]
  },
  {
   "cell_type": "code",
   "execution_count": 67,
   "id": "a31a3b8e",
   "metadata": {},
   "outputs": [],
   "source": [
    "def fahr_to_kelvin(temp):\n",
    "    return celsius_to_kelvin(fahr_to_celcius(temp))"
   ]
  },
  {
   "cell_type": "code",
   "execution_count": 61,
   "id": "9842879a",
   "metadata": {},
   "outputs": [
    {
     "data": {
      "text/plain": [
       "310.3722222222222"
      ]
     },
     "execution_count": 61,
     "metadata": {},
     "output_type": "execute_result"
    }
   ],
   "source": [
    "fahr_to_kelvin(99)"
   ]
  },
  {
   "cell_type": "code",
   "execution_count": 68,
   "id": "3c0ac9c8",
   "metadata": {},
   "outputs": [
    {
     "name": "stdout",
     "output_type": "stream",
     "text": [
      "310.3722222222222 120\n"
     ]
    }
   ],
   "source": [
    "temp = 120\n",
    "print(fahr_to_kelvin(99),temp)"
   ]
  },
  {
   "cell_type": "code",
   "execution_count": 65,
   "id": "0aebc98a",
   "metadata": {},
   "outputs": [
    {
     "ename": "NameError",
     "evalue": "name 'temp_function' is not defined",
     "output_type": "error",
     "traceback": [
      "\u001b[0;31m---------------------------------------------------------------------------\u001b[0m",
      "\u001b[0;31mNameError\u001b[0m                                 Traceback (most recent call last)",
      "\u001b[0;32m<ipython-input-65-4352ffd5e2d0>\u001b[0m in \u001b[0;36m<module>\u001b[0;34m\u001b[0m\n\u001b[0;32m----> 1\u001b[0;31m \u001b[0mprint\u001b[0m\u001b[0;34m(\u001b[0m\u001b[0mtemp_function\u001b[0m\u001b[0;34m)\u001b[0m\u001b[0;34m\u001b[0m\u001b[0;34m\u001b[0m\u001b[0m\n\u001b[0m",
      "\u001b[0;31mNameError\u001b[0m: name 'temp_function' is not defined"
     ]
    }
   ],
   "source": [
    "print(temp_function)"
   ]
  },
  {
   "cell_type": "code",
   "execution_count": 69,
   "id": "046cc3d3",
   "metadata": {},
   "outputs": [],
   "source": [
    "def modify_temp(variable):\n",
    "    print(variable)\n",
    "    temp = temp + 10"
   ]
  },
  {
   "cell_type": "code",
   "execution_count": 70,
   "id": "936decf2",
   "metadata": {},
   "outputs": [
    {
     "name": "stdout",
     "output_type": "stream",
     "text": [
      "32\n"
     ]
    },
    {
     "ename": "UnboundLocalError",
     "evalue": "local variable 'temp' referenced before assignment",
     "output_type": "error",
     "traceback": [
      "\u001b[0;31m---------------------------------------------------------------------------\u001b[0m",
      "\u001b[0;31mUnboundLocalError\u001b[0m                         Traceback (most recent call last)",
      "\u001b[0;32m<ipython-input-70-54b3d73696ea>\u001b[0m in \u001b[0;36m<module>\u001b[0;34m\u001b[0m\n\u001b[1;32m      1\u001b[0m \u001b[0mtemp\u001b[0m \u001b[0;34m=\u001b[0m \u001b[0;36m99\u001b[0m\u001b[0;34m\u001b[0m\u001b[0;34m\u001b[0m\u001b[0m\n\u001b[0;32m----> 2\u001b[0;31m \u001b[0mmodify_temp\u001b[0m\u001b[0;34m(\u001b[0m\u001b[0;36m32\u001b[0m\u001b[0;34m)\u001b[0m\u001b[0;34m\u001b[0m\u001b[0;34m\u001b[0m\u001b[0m\n\u001b[0m\u001b[1;32m      3\u001b[0m \u001b[0mprint\u001b[0m\u001b[0;34m(\u001b[0m\u001b[0mtemp\u001b[0m\u001b[0;34m)\u001b[0m\u001b[0;34m\u001b[0m\u001b[0;34m\u001b[0m\u001b[0m\n",
      "\u001b[0;32m<ipython-input-69-2af4131ad9f7>\u001b[0m in \u001b[0;36mmodify_temp\u001b[0;34m(variable)\u001b[0m\n\u001b[1;32m      1\u001b[0m \u001b[0;32mdef\u001b[0m \u001b[0mmodify_temp\u001b[0m\u001b[0;34m(\u001b[0m\u001b[0mvariable\u001b[0m\u001b[0;34m)\u001b[0m\u001b[0;34m:\u001b[0m\u001b[0;34m\u001b[0m\u001b[0;34m\u001b[0m\u001b[0m\n\u001b[1;32m      2\u001b[0m     \u001b[0mprint\u001b[0m\u001b[0;34m(\u001b[0m\u001b[0mvariable\u001b[0m\u001b[0;34m)\u001b[0m\u001b[0;34m\u001b[0m\u001b[0;34m\u001b[0m\u001b[0m\n\u001b[0;32m----> 3\u001b[0;31m     \u001b[0mtemp\u001b[0m \u001b[0;34m=\u001b[0m \u001b[0mtemp\u001b[0m \u001b[0;34m+\u001b[0m \u001b[0;36m10\u001b[0m\u001b[0;34m\u001b[0m\u001b[0;34m\u001b[0m\u001b[0m\n\u001b[0m",
      "\u001b[0;31mUnboundLocalError\u001b[0m: local variable 'temp' referenced before assignment"
     ]
    }
   ],
   "source": [
    "temp = 99\n",
    "modify_temp(32)\n",
    "print(temp)"
   ]
  },
  {
   "cell_type": "code",
   "execution_count": 72,
   "id": "377f9cfc",
   "metadata": {},
   "outputs": [
    {
     "name": "stdout",
     "output_type": "stream",
     "text": [
      "data/inflammation-01.csv\n",
      "suspicious maxima\n"
     ]
    },
    {
     "data": {
      "image/png": "[encoded data removed]",
      "text/plain": [
       "<Figure size 720x216 with 3 Axes>"
      ]
     },
     "metadata": {
      "needs_background": "light"
     },
     "output_type": "display_data"
    },
    {
     "name": "stdout",
     "output_type": "stream",
     "text": [
      "data/inflammation-02.csv\n",
      "suspicious maxima\n"
     ]
    },
    {
     "data": {
      "image/png": "[encoded data removed]",
      "text/plain": [
       "<Figure size 720x216 with 3 Axes>"
      ]
     },
     "metadata": {
      "needs_background": "light"
     },
     "output_type": "display_data"
    },
    {
     "name": "stdout",
     "output_type": "stream",
     "text": [
      "data/inflammation-03.csv\n",
      "suspicious minima\n"
     ]
    },
    {
     "data": {
      "image/png": "[encoded data removed]",
      "text/plain": [
       "<Figure size 720x216 with 3 Axes>"
      ]
     },
     "metadata": {
      "needs_background": "light"
     },
     "output_type": "display_data"
    }
   ],
   "source": [
    "import numpy as np\n",
    "import matplotlib.pyplot as plt\n",
    "import glob\n",
    "\n",
    "input_path, output_path, extension = 'data/', 'output/', 'png'\n",
    "\n",
    "files = glob.glob(input_path+'inflammation-*.csv')\n",
    "files.sort()\n",
    "\n",
    "# run simple checks\n",
    "def detect_problems(patient_data):\n",
    "    if np.amax(patient_data, axis=0)[0] == 0 and np.amax(patient_data, axis=0)[20] == 20:\n",
    "        print('suspicious maxima')\n",
    "    elif np.sum(np.amin(patient_data, axis=0)) == 0:\n",
    "        print('suspicious minima')\n",
    "    else: \n",
    "        print('passed')\n",
    "        \n",
    "# plot mean, max, and min\n",
    "def plot_graphs(file_name, patient_data):\n",
    "    # set up figure\n",
    "    fig = plt.figure(figsize=(10.0, 3.0))\n",
    "\n",
    "    # set up plots\n",
    "    axes1 = fig.add_subplot(1, 3, 1)\n",
    "    axes2 = fig.add_subplot(1, 3, 2)\n",
    "    axes3 = fig.add_subplot(1, 3, 3)\n",
    "\n",
    "    # plot the mean\n",
    "    axes1.set_ylabel('average')\n",
    "    axes1.plot(np.mean(patient_data, axis=0))\n",
    "\n",
    "    # plot the max\n",
    "    axes2.set_ylabel('max')\n",
    "    axes2.plot(np.amax(patient_data, axis=0))\n",
    "\n",
    "    # plot the min\n",
    "    axes3.set_ylabel('min')\n",
    "    axes3.plot(np.amin(patient_data, axis=0))\n",
    "\n",
    "    fig.tight_layout()\n",
    "\n",
    "    plt.savefig(output_path + file_name[5:-3] + extension)\n",
    "    plt.show()\n",
    "\n",
    "# loop through files, check for error and plot graphs\n",
    "for file in files[0:3]:\n",
    "    \n",
    "    # get the data\n",
    "    print(file)\n",
    "    data = np.loadtxt(fname=file, delimiter=',')\n",
    "    \n",
    "    # detect problems and create graph\n",
    "    detect_problems(data)\n",
    "    plot_graphs(file,data)"
   ]
  },
  {
   "cell_type": "markdown",
   "id": "90098965",
   "metadata": {},
   "source": [
    "## Functions Continued"
   ]
  },
  {
   "cell_type": "code",
   "execution_count": 73,
   "id": "28c7a3b0",
   "metadata": {},
   "outputs": [],
   "source": [
    "np.mean?"
   ]
  },
  {
   "cell_type": "code",
   "execution_count": 74,
   "id": "309581b5",
   "metadata": {},
   "outputs": [],
   "source": [
    "detect_problems?"
   ]
  },
  {
   "cell_type": "code",
   "execution_count": 75,
   "id": "f3f09bc8",
   "metadata": {},
   "outputs": [],
   "source": [
    "def offset_mean(data, offset_value):\n",
    "    return (data - np.mean(data)) + offset_value"
   ]
  },
  {
   "cell_type": "code",
   "execution_count": 78,
   "id": "0960eb07",
   "metadata": {},
   "outputs": [],
   "source": [
    "test_data = np.array([0,1,2,3])"
   ]
  },
  {
   "cell_type": "code",
   "execution_count": 79,
   "id": "aeb1c78e",
   "metadata": {},
   "outputs": [
    {
     "data": {
      "text/plain": [
       "array([1, 2, 3, 4])"
      ]
     },
     "execution_count": 79,
     "metadata": {},
     "output_type": "execute_result"
    }
   ],
   "source": [
    "test_data + 1"
   ]
  },
  {
   "cell_type": "code",
   "execution_count": 80,
   "id": "703f25d8",
   "metadata": {},
   "outputs": [
    {
     "data": {
      "text/plain": [
       "array([1.5, 2.5, 3.5, 4.5])"
      ]
     },
     "execution_count": 80,
     "metadata": {},
     "output_type": "execute_result"
    }
   ],
   "source": [
    "offset_mean(test_data,3)"
   ]
  },
  {
   "cell_type": "code",
   "execution_count": 81,
   "id": "fd881e34",
   "metadata": {},
   "outputs": [],
   "source": [
    "def offset_mean(data, offset_value):\n",
    "    \"\"\"Return new array containing original data with\n",
    "       its mean offset by the offset value\"\"\"\n",
    "    return (data - np.mean(data)) + offset_value"
   ]
  },
  {
   "cell_type": "code",
   "execution_count": 82,
   "id": "b02ec569",
   "metadata": {},
   "outputs": [],
   "source": [
    "offset_mean?"
   ]
  },
  {
   "cell_type": "code",
   "execution_count": 83,
   "id": "aa7e2ace",
   "metadata": {},
   "outputs": [],
   "source": [
    "def display(a,b,c):\n",
    "    print('a:',a,'b:',b,'c:',c)"
   ]
  },
  {
   "cell_type": "code",
   "execution_count": 84,
   "id": "ee088498",
   "metadata": {},
   "outputs": [
    {
     "name": "stdout",
     "output_type": "stream",
     "text": [
      "a: 1 b: 2 c: 3\n"
     ]
    }
   ],
   "source": [
    "display(1,2,3)"
   ]
  },
  {
   "cell_type": "code",
   "execution_count": 85,
   "id": "1240e208",
   "metadata": {},
   "outputs": [
    {
     "ename": "TypeError",
     "evalue": "display() missing 2 required positional arguments: 'b' and 'c'",
     "output_type": "error",
     "traceback": [
      "\u001b[0;31m---------------------------------------------------------------------------\u001b[0m",
      "\u001b[0;31mTypeError\u001b[0m                                 Traceback (most recent call last)",
      "\u001b[0;32m<ipython-input-85-63bbca09bbe0>\u001b[0m in \u001b[0;36m<module>\u001b[0;34m\u001b[0m\n\u001b[0;32m----> 1\u001b[0;31m \u001b[0mdisplay\u001b[0m\u001b[0;34m(\u001b[0m\u001b[0;36m1\u001b[0m\u001b[0;34m)\u001b[0m\u001b[0;34m\u001b[0m\u001b[0;34m\u001b[0m\u001b[0m\n\u001b[0m",
      "\u001b[0;31mTypeError\u001b[0m: display() missing 2 required positional arguments: 'b' and 'c'"
     ]
    }
   ],
   "source": [
    "display(1)"
   ]
  },
  {
   "cell_type": "code",
   "execution_count": 86,
   "id": "752bd2b9",
   "metadata": {},
   "outputs": [],
   "source": [
    "def display(a=1,b=2,c=3):\n",
    "    print('a:',a,'b:',b,'c:',c)"
   ]
  },
  {
   "cell_type": "code",
   "execution_count": 87,
   "id": "dee90f55",
   "metadata": {},
   "outputs": [
    {
     "name": "stdout",
     "output_type": "stream",
     "text": [
      "a: 4 b: 5 c: 6\n"
     ]
    }
   ],
   "source": [
    "display(4,5,6)"
   ]
  },
  {
   "cell_type": "code",
   "execution_count": 88,
   "id": "65d1239a",
   "metadata": {},
   "outputs": [
    {
     "name": "stdout",
     "output_type": "stream",
     "text": [
      "a: 1 b: 2 c: 3\n"
     ]
    }
   ],
   "source": [
    "display()"
   ]
  },
  {
   "cell_type": "code",
   "execution_count": 89,
   "id": "641973e6",
   "metadata": {},
   "outputs": [
    {
     "name": "stdout",
     "output_type": "stream",
     "text": [
      "a: 6 b: 2 c: 9\n"
     ]
    }
   ],
   "source": [
    "display(a=6,c=9,b=2)"
   ]
  },
  {
   "cell_type": "code",
   "execution_count": 90,
   "id": "3c2d6d43",
   "metadata": {},
   "outputs": [
    {
     "name": "stdout",
     "output_type": "stream",
     "text": [
      "a: 1 b: 2 c: 10\n"
     ]
    }
   ],
   "source": [
    "display(c=10)"
   ]
  },
  {
   "cell_type": "code",
   "execution_count": null,
   "id": "78b8cc12",
   "metadata": {},
   "outputs": [],
   "source": [
    "import numpy as np\n",
    "import matplotlib.pyplot as plt\n",
    "import glob\n",
    "\n",
    "input_path, output_path, extension = 'data/', 'output/', 'png'\n",
    "\n",
    "files = glob.glob(input_path+'inflammation-*.csv')\n",
    "files.sort()\n",
    "\n",
    "# run simple checks\n",
    "def detect_problems(patient_data):\n",
    "    \"\"\"Perform basic tests on one file for patient data\"\"\"\n",
    "    if np.amax(patient_data, axis=0)[0] == 0 and np.amax(patient_data, axis=0)[20] == 20:\n",
    "        print('suspicious maxima')\n",
    "    elif np.sum(np.amin(patient_data, axis=0)) == 0:\n",
    "        print('suspicious minima')\n",
    "    else: \n",
    "        print('passed')\n",
    "        \n",
    "# plot mean, max, and min\n",
    "def plot_graphs(file_name, patient_data):\n",
    "    \"\"\"Plot line graph of patient inflamation data for one file\"\"\"\n",
    "    # set up figure\n",
    "    fig = plt.figure(figsize=(10.0, 3.0))\n",
    "\n",
    "    # set up plots\n",
    "    axes1 = fig.add_subplot(1, 3, 1)\n",
    "    axes2 = fig.add_subplot(1, 3, 2)\n",
    "    axes3 = fig.add_subplot(1, 3, 3)\n",
    "\n",
    "    # plot the mean\n",
    "    axes1.set_ylabel('average')\n",
    "    axes1.plot(np.mean(patient_data, axis=0))\n",
    "\n",
    "    # plot the max\n",
    "    axes2.set_ylabel('max')\n",
    "    axes2.plot(np.amax(patient_data, axis=0))\n",
    "\n",
    "    # plot the min\n",
    "    axes3.set_ylabel('min')\n",
    "    axes3.plot(np.amin(patient_data, axis=0))\n",
    "\n",
    "    fig.tight_layout()\n",
    "\n",
    "    plt.savefig(output_path + file_name[5:-3] + extension)\n",
    "    plt.show()\n",
    "\n",
    "# loop through files, check for error and plot graphs\n",
    "for file in files[0:3]:\n",
    "    \n",
    "    # get the data\n",
    "    print(file)\n",
    "    data = np.loadtxt(fname=file, delimiter=',')\n",
    "    \n",
    "    # detect problems and create graph\n",
    "    detect_problems(data)\n",
    "    plot_graphs(file,data)"
   ]
  }
 ],
 "metadata": {
  "kernelspec": {
   "display_name": "Python 3",
   "language": "python",
   "name": "python3"
  },
  "language_info": {
   "codemirror_mode": {
    "name": "ipython",
    "version": 3
   },
   "file_extension": ".py",
   "mimetype": "text/x-python",
   "name": "python",
   "nbconvert_exporter": "python",
   "pygments_lexer": "ipython3",
   "version": "3.7.6"
  }
 },
 "nbformat": 4,
 "nbformat_minor": 5
}
